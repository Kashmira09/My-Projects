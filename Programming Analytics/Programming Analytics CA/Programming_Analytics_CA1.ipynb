{
  "nbformat": 4,
  "nbformat_minor": 0,
  "metadata": {
    "colab": {
      "provenance": []
    },
    "kernelspec": {
      "name": "python3",
      "display_name": "Python 3"
    },
    "language_info": {
      "name": "python"
    }
  },
  "cells": [
    {
      "cell_type": "markdown",
      "source": [
        "Question 1"
      ],
      "metadata": {
        "id": "3dOE94gXbGAF"
      }
    },
    {
      "cell_type": "code",
      "source": [
        "#Employee Data\n",
        "Employee_name=input(\"Enter your name:\\n\")\n",
        "Employee_number=input(\"Enter your Employee Number:\\n\")\n",
        "Week_Ending=input(\"Enter the Week ending date:\\n\")\n",
        "Hours_Worked=float(input(\"Enter the number of hours worked:\\n\"))\n",
        "Rate_Per_Hour=float(input(\"Enter the rate per hour:\\n\"))\n",
        "Standard_Tax_Rate=float(input(\"Enter Standard tax rate:\\n\"))\n",
        "Overtime_Tax_Rate=float(input(\"Enter Overtime tax rate:\\n\"))\n",
        "\n",
        "#working hours & overtime details\n",
        "Overtime_Rate=Rate_Per_Hour*1.5\n",
        "Standard_working_hours=37.5\n",
        "overtime_hours=Hours_Worked-37.5\n",
        "\n",
        "if(Hours_Worked<37.5):\n",
        "    Gross_Pay=Hours_Worked*Rate_Per_Hour\n",
        "    Tax_Pay=Gross_Pay*Standard_Tax_Rate\n",
        "    Net_Pay=Gross_Pay+Tax_Pay\n",
        "elif (Hours_Worked>37.5):\n",
        "        Gross_Pay=Rate_Per_Hour*37.5 #pay for hours less than 37.5 hours\n",
        "        Tax_pay_1=Gross_Pay*Standard_Tax_Rate\n",
        "        net_pay_1=Gross_Pay+Tax_pay_1\n",
        "        Overtime_Pay=((Hours_Worked-37.5)*Overtime_Rate)\n",
        "        Tax_pay_2=Overtime_Pay*Overtime_Tax_Rate\n",
        "        net_pay_2=Overtime_Pay+Tax_pay_2\n",
        "        Tax_Pay=Tax_pay_1+Tax_pay_2\n",
        "        Net_Pay=net_pay_1+net_pay_2\n",
        "\n",
        "#printing the payslip\n",
        "print(\"                               PAYSLIP                          \")\n",
        "print(\"Week Ending \",Week_Ending )\n",
        "print(\"Employee:\",Employee_name)\n",
        "print(\"Employee Number:\",Employee_number)\n",
        "\n",
        "print(\"                               Earnings                     Deductions           \")\n",
        "print(\"                            Hours   Rate   Total\")\n",
        "print(\"Hours (normal)               \",Hours_Worked,    Rate_Per_Hour,     Gross_Pay,     \"Tax @\",Standard_Tax_Rate, Gross_Pay*Standard_Tax_Rate  )\n",
        "print(\"Hours (Overtime)             \",overtime_hours,  Overtime_Rate,     Overtime_Pay,  \"Tax @\",Overtime_Tax_Rate, ((Hours_Worked-37.5)*Overtime_Rate*Overtime_Tax_Rate))\n",
        "\n",
        "print(\"                              Total Pay:\",                                                                   Gross_Pay             )\n",
        "print(\"                              Total Deductions:\",                                                            Tax_Pay              )\n",
        "print(\"                              Net Pay:\",                                                                     Net_Pay)\n",
        "\n",
        "\n",
        "\n",
        "\n",
        "\n"
      ],
      "metadata": {
        "colab": {
          "base_uri": "https://localhost:8080/"
        },
        "id": "kbW-TLawt4bS",
        "outputId": "2b05e961-bc27-4472-a54d-040b6af615fd"
      },
      "execution_count": 35,
      "outputs": [
        {
          "output_type": "stream",
          "name": "stdout",
          "text": [
            "Enter your name:\n",
            "Tia\n",
            "Enter your Employee Number:\n",
            "2381\n",
            "Enter the Week ending date:\n",
            "28-04-24\n",
            "Enter the number of hours worked:\n",
            "55\n",
            "Enter the rate per hour:\n",
            "1200\n",
            "Enter Standard tax rate:\n",
            "20\n",
            "Enter Overtime tax rate:\n",
            "30\n",
            "                               PAYSLIP                          \n",
            "Week Ending  28-04-24\n",
            "Employee: Tia\n",
            "Employee Number: 2381\n",
            "                               Earnings                     Deductions           \n",
            "                            Hours   Rate   Total\n",
            "Hours (normal)                55.0 1200.0 45000.0 Tax @ 20.0 900000.0\n",
            "Hours (Overtime)              17.5 1800.0 31500.0 Tax @ 30.0 945000.0\n",
            "                              Total Pay: 45000.0\n",
            "                              Total Deductions: 1845000.0\n",
            "                              Net Pay: 1921500.0\n"
          ]
        }
      ]
    },
    {
      "cell_type": "markdown",
      "source": [
        "Question 2"
      ],
      "metadata": {
        "id": "JbIKXirrt62_"
      }
    },
    {
      "cell_type": "code",
      "source": [
        "print('#####################################################')\n",
        "print('              WELCOME TO DBS CONSOLE                 ')\n",
        "print('#####################################################')\n",
        "Input_name = input(\"Enter your username in the format Domain_name\\\\Username: \")\n",
        "Domain_name, username = Input_name.split('\\\\')\n",
        "print(\"Domain : \", Domain_name)\n",
        "print(\"Username : \", username)"
      ],
      "metadata": {
        "colab": {
          "base_uri": "https://localhost:8080/"
        },
        "id": "sdipEjGKajaI",
        "outputId": "d39e5df2-862d-4785-8126-e22bb244a28c"
      },
      "execution_count": 28,
      "outputs": [
        {
          "output_type": "stream",
          "name": "stdout",
          "text": [
            "#####################################################\n",
            "              WELCOME TO DBS CONSOLE                 \n",
            "#####################################################\n",
            "Enter your username in the format Domain_name\\Username: DBS\\2032982\n",
            "Domain :  DBS\n",
            "Username :  2032982\n"
          ]
        }
      ]
    },
    {
      "cell_type": "markdown",
      "source": [
        "Question 3"
      ],
      "metadata": {
        "id": "crzCUIaAbJL4"
      }
    },
    {
      "cell_type": "code",
      "source": [
        "def integer_value(numbers):\n",
        "  count = {}\n",
        "  for num in numbers:\n",
        "    if num in count:\n",
        "      count[num] += 1\n",
        "    else:\n",
        "      count[num] = 1\n",
        "  return count\n",
        "\n",
        "integers = []\n",
        "counter = 1\n",
        "\n",
        "print(\"Enter the value to check frequency or 'QUIT to exit\")\n",
        "\n",
        "while True:\n",
        "  Integer = input(\"Enter the integer: \")\n",
        "  if Integer.upper() == 'QUIT':\n",
        "    break\n",
        "  integers.append(Integer)\n",
        "  counter+=1\n",
        "\n",
        "count = integer_count(integers)\n",
        "print()\n",
        "print(\"Frequency of each Number is:\")\n",
        "for num, freq in count.items():\n",
        "  print(f\"Number: {num}, Frequency: {freq}\")"
      ],
      "metadata": {
        "colab": {
          "base_uri": "https://localhost:8080/"
        },
        "id": "-nTvZJ5qd4zs",
        "outputId": "7a603716-5372-4a48-c353-19f75a01e6b6"
      },
      "execution_count": 11,
      "outputs": [
        {
          "output_type": "stream",
          "name": "stdout",
          "text": [
            "Enter the value to check frequency or 'QUIT to exit\n",
            "Enter the integer: 2\n",
            "Enter the integer: 1\n",
            "Enter the integer: 1\n",
            "Enter the integer: 2\n",
            "Enter the integer: 3\n",
            "Enter the integer: 3\n",
            "Enter the integer: 4\n",
            "Enter the integer: Quit\n",
            "\n",
            "Frequency of each Number is:\n",
            "Number: 2, Frequency: 2\n",
            "Number: 1, Frequency: 2\n",
            "Number: 3, Frequency: 2\n",
            "Number: 4, Frequency: 1\n"
          ]
        }
      ]
    },
    {
      "cell_type": "markdown",
      "source": [
        "Question 4"
      ],
      "metadata": {
        "id": "7dAkqOxKgFJz"
      }
    },
    {
      "cell_type": "code",
      "source": [
        "print('##############################################')\n",
        "print('              MYPY PHONE BOOK                 ')\n",
        "print('##############################################')\n",
        "\n",
        "phone_directory = {}\n",
        "\n",
        "def Add_contact(person_name, phone_number):\n",
        "    if phone_number in phone_directory.values():\n",
        "        print(\"Error: Phone number already exists.\")\n",
        "    else:\n",
        "        phone_directory[person_name] = phone_number\n",
        "        print(\"Contact added:\",person_name, phone_number)\n",
        "\n",
        "def Delete_contact(phone_number):\n",
        "    for name, phone in phone_directory.items():\n",
        "        if phone == phone_number:\n",
        "            del phone_directory[name]\n",
        "            print(\"Contact removed:\",name,phone)\n",
        "            return\n",
        "    print(\"Error: Phone number not found.\")\n",
        "\n",
        "def Update_contact(person_name, phone_number):\n",
        "    if phone_number in phone_directory.values():\n",
        "        print(\"Error: Phone number already exists.\")\n",
        "    elif person_name not in phone_directory:\n",
        "        print(\"Error: Name not found.\")\n",
        "    else:\n",
        "        phone_directory[person_name] = phone_number\n",
        "        print(\"Contact updated:\",person_name, phone_number)\n",
        "\n",
        "def Lookup_contact(phone_number):\n",
        "    for name, phone in phone_directory.items():\n",
        "        if phone == phone_number:\n",
        "            print(\"Name:\" ,name, \"Phone:\", phone)\n",
        "            return\n",
        "    print(\"Phone number not found.\")\n",
        "    option = input(\"Do you want to Add this contact? (Yes/No): \")\n",
        "    if option == \"Yes\":\n",
        "        name = input(\"Enter name: \")\n",
        "        Add_contact(name, phone_number)\n",
        "\n",
        "while True:\n",
        "        print(\"\\nMYPY Phone Book System\")\n",
        "        print(\"1. Add Contact\")\n",
        "        print(\"2. Delete Contact\")\n",
        "        print(\"3. Update Contact\")\n",
        "        print(\"4. Lookup Contact\")\n",
        "        print(\"5. Quit\")\n",
        "\n",
        "        choice = input(\"Enter your choice: \")\n",
        "\n",
        "        if choice == \"1\":\n",
        "            name = input(\"Enter name: \")\n",
        "            number = input(\"Enter phone number: \")\n",
        "            Add_contact(name,number)\n",
        "        elif choice == \"2\":\n",
        "            number = input(\"Enter phone number to Delete: \")\n",
        "            Delete_contact(number)\n",
        "        elif choice == \"3\":\n",
        "            name = input(\"Enter name to Update: \")\n",
        "            number = input(\"Enter new phone number: \")\n",
        "            Update_contact(name,number)\n",
        "        elif choice == \"4\":\n",
        "            number = input(\"Enter phone number to search: \")\n",
        "            Lookup_contact(number)\n",
        "        elif choice == \"5\":\n",
        "            print(\"Exiting program.\")\n",
        "            break\n",
        "        else:\n",
        "            print(\"Invalid choice. Please try again.\")"
      ],
      "metadata": {
        "colab": {
          "base_uri": "https://localhost:8080/"
        },
        "id": "r2Mtn077hhWy",
        "outputId": "82f2950e-5364-4040-d0d3-d71287aa311a"
      },
      "execution_count": 21,
      "outputs": [
        {
          "output_type": "stream",
          "name": "stdout",
          "text": [
            "##############################################\n",
            "              MYPY PHONE BOOK                 \n",
            "##############################################\n",
            "\n",
            "MYPY Phone Book System\n",
            "1. Add Contact\n",
            "2. Delete Contact\n",
            "3. Update Contact\n",
            "4. Lookup Contact\n",
            "5. Quit\n",
            "Enter your choice: 1\n",
            "Enter name: Disha\n",
            "Enter phone number: 876356511\n",
            "Contact added: Disha 876356511\n",
            "\n",
            "MYPY Phone Book System\n",
            "1. Add Contact\n",
            "2. Delete Contact\n",
            "3. Update Contact\n",
            "4. Lookup Contact\n",
            "5. Quit\n",
            "Enter your choice: 1\n",
            "Enter name: Tanvi\n",
            "Enter phone number: 9876355822\n",
            "Contact added: Tanvi 9876355822\n",
            "\n",
            "MYPY Phone Book System\n",
            "1. Add Contact\n",
            "2. Delete Contact\n",
            "3. Update Contact\n",
            "4. Lookup Contact\n",
            "5. Quit\n",
            "Enter your choice: 4\n",
            "Enter phone number to search: 9876355822\n",
            "Name: Tanvi Phone: 9876355822\n",
            "\n",
            "MYPY Phone Book System\n",
            "1. Add Contact\n",
            "2. Delete Contact\n",
            "3. Update Contact\n",
            "4. Lookup Contact\n",
            "5. Quit\n",
            "Enter your choice: 3\n",
            "Enter name to Update: Tanvi\n",
            "Enter new phone number: 9004756314\n",
            "Contact updated: Tanvi 9004756314\n",
            "\n",
            "MYPY Phone Book System\n",
            "1. Add Contact\n",
            "2. Delete Contact\n",
            "3. Update Contact\n",
            "4. Lookup Contact\n",
            "5. Quit\n",
            "Enter your choice: 2\n",
            "Enter phone number to Delete: 9004756314\n",
            "Contact removed: Tanvi 9004756314\n",
            "\n",
            "MYPY Phone Book System\n",
            "1. Add Contact\n",
            "2. Delete Contact\n",
            "3. Update Contact\n",
            "4. Lookup Contact\n",
            "5. Quit\n",
            "Enter your choice: Quit\n",
            "Invalid choice. Please try again.\n",
            "\n",
            "MYPY Phone Book System\n",
            "1. Add Contact\n",
            "2. Delete Contact\n",
            "3. Update Contact\n",
            "4. Lookup Contact\n",
            "5. Quit\n",
            "Enter your choice: 5\n",
            "Exiting program.\n"
          ]
        }
      ]
    }
  ]
}